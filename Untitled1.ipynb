{
  "nbformat": 4,
  "nbformat_minor": 0,
  "metadata": {
    "colab": {
      "name": "Untitled1.ipynb",
      "provenance": [],
      "collapsed_sections": [],
      "include_colab_link": true
    },
    "kernelspec": {
      "name": "python3",
      "display_name": "Python 3"
    }
  },
  "cells": [
    {
      "cell_type": "markdown",
      "metadata": {
        "id": "view-in-github",
        "colab_type": "text"
      },
      "source": [
        "<a href=\"https://colab.research.google.com/github/andygoosh/Welltory/blob/master/Untitled1.ipynb\" target=\"_parent\"><img src=\"https://colab.research.google.com/assets/colab-badge.svg\" alt=\"Open In Colab\"/></a>"
      ]
    },
    {
      "cell_type": "code",
      "metadata": {
        "id": "R5k5clhj8zDU",
        "colab_type": "code",
        "outputId": "7c2d203d-86c9-4e86-eb4e-7bd5a1bef529",
        "colab": {
          "base_uri": "https://localhost:8080/",
          "height": 34
        }
      },
      "source": [
        "%pylab inline\n",
        "\n",
        "import pandas as pd\n",
        "import datetime\n",
        "import sklearn as skl\n",
        "from sklearn.cluster import KMeans\n",
        "\n",
        "RS = 77\n",
        "n_jobs=-1"
      ],
      "execution_count": 3,
      "outputs": [
        {
          "output_type": "stream",
          "text": [
            "Populating the interactive namespace from numpy and matplotlib\n"
          ],
          "name": "stdout"
        }
      ]
    },
    {
      "cell_type": "markdown",
      "metadata": {
        "id": "GhPxTpARrqo7",
        "colab_type": "text"
      },
      "source": [
        "### Описание задания [здесь](https://docs.google.com/document/d/1D-Nc6MhUAEt9pMPvsjWsNowr9igvdXmYxVkFhgTtNBI/edit)"
      ]
    },
    {
      "cell_type": "markdown",
      "metadata": {
        "id": "GOGinwiAJXPc",
        "colab_type": "text"
      },
      "source": [
        "## Загружаем данные"
      ]
    },
    {
      "cell_type": "code",
      "metadata": {
        "id": "wPHZjrMB8xIe",
        "colab_type": "code",
        "outputId": "8dc4325e-d65e-4bc3-e12f-0c1a38666083",
        "colab": {
          "base_uri": "https://localhost:8080/",
          "height": 419
        }
      },
      "source": [
        "#df_train = pd.read_csv('https://www.dropbox.com/s/wc0r4muzezw6fhm/query_result_2019-12-24T07_29_06.659397Z.csv?dl=0')\n",
        "df_data = pd.read_csv('query_result_2019-12-24T07_29_06.659397Z.csv', parse_dates=['Time End','Time End Local Tz','Time Start', 'Time Start Local Tz'])\n",
        "df_data"
      ],
      "execution_count": 5,
      "outputs": [
        {
          "output_type": "execute_result",
          "data": {
            "text/html": [
              "<div>\n",
              "<style scoped>\n",
              "    .dataframe tbody tr th:only-of-type {\n",
              "        vertical-align: middle;\n",
              "    }\n",
              "\n",
              "    .dataframe tbody tr th {\n",
              "        vertical-align: top;\n",
              "    }\n",
              "\n",
              "    .dataframe thead th {\n",
              "        text-align: right;\n",
              "    }\n",
              "</style>\n",
              "<table border=\"1\" class=\"dataframe\">\n",
              "  <thead>\n",
              "    <tr style=\"text-align: right;\">\n",
              "      <th></th>\n",
              "      <th>Time End</th>\n",
              "      <th>Time End Local Tz</th>\n",
              "      <th>Time Offset</th>\n",
              "      <th>Time Start</th>\n",
              "      <th>Time Start Local Tz</th>\n",
              "      <th>User ID</th>\n",
              "      <th>Value</th>\n",
              "    </tr>\n",
              "  </thead>\n",
              "  <tbody>\n",
              "    <tr>\n",
              "      <th>0</th>\n",
              "      <td>2019-05-05 09:40:00+03:00</td>\n",
              "      <td>2019-05-05 12:40:00+03:00</td>\n",
              "      <td>10800</td>\n",
              "      <td>2019-05-05 09:39:59+03:00</td>\n",
              "      <td>2019-05-05 12:39:59+03:00</td>\n",
              "      <td>2166</td>\n",
              "      <td>1.0</td>\n",
              "    </tr>\n",
              "    <tr>\n",
              "      <th>1</th>\n",
              "      <td>2019-05-05 11:13:29+03:00</td>\n",
              "      <td>2019-05-05 14:13:29+03:00</td>\n",
              "      <td>10800</td>\n",
              "      <td>2019-05-05 11:12:51+03:00</td>\n",
              "      <td>2019-05-05 14:12:51+03:00</td>\n",
              "      <td>2166</td>\n",
              "      <td>34.0</td>\n",
              "    </tr>\n",
              "    <tr>\n",
              "      <th>2</th>\n",
              "      <td>2019-05-05 12:07:42+03:00</td>\n",
              "      <td>2019-05-05 15:07:42+03:00</td>\n",
              "      <td>10800</td>\n",
              "      <td>2019-05-05 12:07:39+03:00</td>\n",
              "      <td>2019-05-05 15:07:39+03:00</td>\n",
              "      <td>2166</td>\n",
              "      <td>1.0</td>\n",
              "    </tr>\n",
              "    <tr>\n",
              "      <th>3</th>\n",
              "      <td>2019-05-05 13:04:05+03:00</td>\n",
              "      <td>2019-05-05 16:04:05+03:00</td>\n",
              "      <td>10800</td>\n",
              "      <td>2019-05-05 13:04:02+03:00</td>\n",
              "      <td>2019-05-05 16:04:02+03:00</td>\n",
              "      <td>2166</td>\n",
              "      <td>3.0</td>\n",
              "    </tr>\n",
              "    <tr>\n",
              "      <th>4</th>\n",
              "      <td>2019-05-05 13:18:18+03:00</td>\n",
              "      <td>2019-05-05 16:18:18+03:00</td>\n",
              "      <td>10800</td>\n",
              "      <td>2019-05-05 13:18:13+03:00</td>\n",
              "      <td>2019-05-05 16:18:13+03:00</td>\n",
              "      <td>2166</td>\n",
              "      <td>6.0</td>\n",
              "    </tr>\n",
              "    <tr>\n",
              "      <th>...</th>\n",
              "      <td>...</td>\n",
              "      <td>...</td>\n",
              "      <td>...</td>\n",
              "      <td>...</td>\n",
              "      <td>...</td>\n",
              "      <td>...</td>\n",
              "      <td>...</td>\n",
              "    </tr>\n",
              "    <tr>\n",
              "      <th>39666</th>\n",
              "      <td>2019-06-30 19:11:32+03:00</td>\n",
              "      <td>2019-06-30 22:11:32+03:00</td>\n",
              "      <td>10800</td>\n",
              "      <td>2019-06-30 19:10:34+03:00</td>\n",
              "      <td>2019-06-30 22:10:34+03:00</td>\n",
              "      <td>2166</td>\n",
              "      <td>85.0</td>\n",
              "    </tr>\n",
              "    <tr>\n",
              "      <th>39667</th>\n",
              "      <td>2019-06-30 19:12:19+03:00</td>\n",
              "      <td>2019-06-30 22:12:19+03:00</td>\n",
              "      <td>10800</td>\n",
              "      <td>2019-06-30 19:11:32+03:00</td>\n",
              "      <td>2019-06-30 22:11:32+03:00</td>\n",
              "      <td>2166</td>\n",
              "      <td>64.0</td>\n",
              "    </tr>\n",
              "    <tr>\n",
              "      <th>39668</th>\n",
              "      <td>2019-06-30 19:13:07+03:00</td>\n",
              "      <td>2019-06-30 22:13:07+03:00</td>\n",
              "      <td>10800</td>\n",
              "      <td>2019-06-30 19:13:05+03:00</td>\n",
              "      <td>2019-06-30 22:13:05+03:00</td>\n",
              "      <td>2166</td>\n",
              "      <td>1.0</td>\n",
              "    </tr>\n",
              "    <tr>\n",
              "      <th>39669</th>\n",
              "      <td>2019-06-30 19:33:06+03:00</td>\n",
              "      <td>2019-06-30 22:33:06+03:00</td>\n",
              "      <td>10800</td>\n",
              "      <td>2019-06-30 19:30:00+03:00</td>\n",
              "      <td>2019-06-30 22:30:00+03:00</td>\n",
              "      <td>2166</td>\n",
              "      <td>13.0</td>\n",
              "    </tr>\n",
              "    <tr>\n",
              "      <th>39670</th>\n",
              "      <td>2019-06-30 19:33:19+03:00</td>\n",
              "      <td>2019-06-30 22:33:19+03:00</td>\n",
              "      <td>10800</td>\n",
              "      <td>2019-06-30 19:33:06+03:00</td>\n",
              "      <td>2019-06-30 22:33:06+03:00</td>\n",
              "      <td>2166</td>\n",
              "      <td>9.0</td>\n",
              "    </tr>\n",
              "  </tbody>\n",
              "</table>\n",
              "<p>39671 rows × 7 columns</p>\n",
              "</div>"
            ],
            "text/plain": [
              "                       Time End         Time End Local Tz  ...  User ID Value\n",
              "0     2019-05-05 09:40:00+03:00 2019-05-05 12:40:00+03:00  ...     2166   1.0\n",
              "1     2019-05-05 11:13:29+03:00 2019-05-05 14:13:29+03:00  ...     2166  34.0\n",
              "2     2019-05-05 12:07:42+03:00 2019-05-05 15:07:42+03:00  ...     2166   1.0\n",
              "3     2019-05-05 13:04:05+03:00 2019-05-05 16:04:05+03:00  ...     2166   3.0\n",
              "4     2019-05-05 13:18:18+03:00 2019-05-05 16:18:18+03:00  ...     2166   6.0\n",
              "...                         ...                       ...  ...      ...   ...\n",
              "39666 2019-06-30 19:11:32+03:00 2019-06-30 22:11:32+03:00  ...     2166  85.0\n",
              "39667 2019-06-30 19:12:19+03:00 2019-06-30 22:12:19+03:00  ...     2166  64.0\n",
              "39668 2019-06-30 19:13:07+03:00 2019-06-30 22:13:07+03:00  ...     2166   1.0\n",
              "39669 2019-06-30 19:33:06+03:00 2019-06-30 22:33:06+03:00  ...     2166  13.0\n",
              "39670 2019-06-30 19:33:19+03:00 2019-06-30 22:33:19+03:00  ...     2166   9.0\n",
              "\n",
              "[39671 rows x 7 columns]"
            ]
          },
          "metadata": {
            "tags": []
          },
          "execution_count": 5
        }
      ]
    },
    {
      "cell_type": "code",
      "metadata": {
        "id": "ObKtYi_58FMk",
        "colab_type": "code",
        "colab": {}
      },
      "source": [
        "df_train = df_data.copy()"
      ],
      "execution_count": 0,
      "outputs": []
    },
    {
      "cell_type": "markdown",
      "metadata": {
        "id": "egNiBIO8SCcF",
        "colab_type": "text"
      },
      "source": [
        "## В задаче сказано, что выборка для одного человека. Проверим это, и, если так, то удалим колонку *'User ID'*"
      ]
    },
    {
      "cell_type": "code",
      "metadata": {
        "id": "U-2bzGlNSBxn",
        "colab_type": "code",
        "colab": {}
      },
      "source": [
        "a = df_train['User ID'].value_counts()\n",
        "if  a.count() == 1 and a.sum() == df_train.shape[0]:\n",
        "  df_train.drop(['User ID'], axis=1, inplace=True)"
      ],
      "execution_count": 0,
      "outputs": []
    },
    {
      "cell_type": "markdown",
      "metadata": {
        "id": "TTvSKaMVTVIz",
        "colab_type": "text"
      },
      "source": [
        "## Уберем лишние колонки *'Time Offset'*, *'Time End'*, *'Time Start'*, эти данные есть в колонках *'Time End Local Tz'* и *'Time Start Local Tz'*, которые нам более целесообразно использовать, так как пользователь \"живет\" в локальном времени"
      ]
    },
    {
      "cell_type": "code",
      "metadata": {
        "id": "YRXolJZENStw",
        "colab_type": "code",
        "colab": {}
      },
      "source": [
        "df_train.drop(['Time Offset', 'Time End', 'Time Start'], axis=1, inplace=True)"
      ],
      "execution_count": 0,
      "outputs": []
    },
    {
      "cell_type": "markdown",
      "metadata": {
        "id": "K73fIbmH2Vdw",
        "colab_type": "text"
      },
      "source": [
        "## Посмторим, какая точность у активностей. Разница времени окончания и начала активностей не меньше 1 секунды"
      ]
    },
    {
      "cell_type": "code",
      "metadata": {
        "id": "R4RboJn11fq7",
        "colab_type": "code",
        "outputId": "6829ef92-a8c3-4d40-9d3a-3e343daac3a1",
        "colab": {
          "base_uri": "https://localhost:8080/",
          "height": 34
        }
      },
      "source": [
        "a = df_train['Time End Local Tz'] - df_train['Time Start Local Tz']\n",
        "a[a < datetime.timedelta(seconds=1)].shape"
      ],
      "execution_count": 9,
      "outputs": [
        {
          "output_type": "execute_result",
          "data": {
            "text/plain": [
              "(0,)"
            ]
          },
          "metadata": {
            "tags": []
          },
          "execution_count": 9
        }
      ]
    },
    {
      "cell_type": "markdown",
      "metadata": {
        "id": "3uFNU5DNUOR5",
        "colab_type": "text"
      },
      "source": [
        "##Добавим фичу *'Length'*, как продолжительность каждой активности в секундах"
      ]
    },
    {
      "cell_type": "code",
      "metadata": {
        "id": "mNbg4JtSx2YC",
        "colab_type": "code",
        "outputId": "3cae4019-c809-4603-ca08-854884fb75d4",
        "colab": {
          "base_uri": "https://localhost:8080/",
          "height": 419
        }
      },
      "source": [
        "df_train['Length'] = (df_train['Time End Local Tz'] - df_train['Time Start Local Tz']).map(lambda x: int(x.total_seconds()))\n",
        "df_train"
      ],
      "execution_count": 10,
      "outputs": [
        {
          "output_type": "execute_result",
          "data": {
            "text/html": [
              "<div>\n",
              "<style scoped>\n",
              "    .dataframe tbody tr th:only-of-type {\n",
              "        vertical-align: middle;\n",
              "    }\n",
              "\n",
              "    .dataframe tbody tr th {\n",
              "        vertical-align: top;\n",
              "    }\n",
              "\n",
              "    .dataframe thead th {\n",
              "        text-align: right;\n",
              "    }\n",
              "</style>\n",
              "<table border=\"1\" class=\"dataframe\">\n",
              "  <thead>\n",
              "    <tr style=\"text-align: right;\">\n",
              "      <th></th>\n",
              "      <th>Time End Local Tz</th>\n",
              "      <th>Time Start Local Tz</th>\n",
              "      <th>Value</th>\n",
              "      <th>Length</th>\n",
              "    </tr>\n",
              "  </thead>\n",
              "  <tbody>\n",
              "    <tr>\n",
              "      <th>0</th>\n",
              "      <td>2019-05-05 12:40:00+03:00</td>\n",
              "      <td>2019-05-05 12:39:59+03:00</td>\n",
              "      <td>1.0</td>\n",
              "      <td>1</td>\n",
              "    </tr>\n",
              "    <tr>\n",
              "      <th>1</th>\n",
              "      <td>2019-05-05 14:13:29+03:00</td>\n",
              "      <td>2019-05-05 14:12:51+03:00</td>\n",
              "      <td>34.0</td>\n",
              "      <td>38</td>\n",
              "    </tr>\n",
              "    <tr>\n",
              "      <th>2</th>\n",
              "      <td>2019-05-05 15:07:42+03:00</td>\n",
              "      <td>2019-05-05 15:07:39+03:00</td>\n",
              "      <td>1.0</td>\n",
              "      <td>3</td>\n",
              "    </tr>\n",
              "    <tr>\n",
              "      <th>3</th>\n",
              "      <td>2019-05-05 16:04:05+03:00</td>\n",
              "      <td>2019-05-05 16:04:02+03:00</td>\n",
              "      <td>3.0</td>\n",
              "      <td>3</td>\n",
              "    </tr>\n",
              "    <tr>\n",
              "      <th>4</th>\n",
              "      <td>2019-05-05 16:18:18+03:00</td>\n",
              "      <td>2019-05-05 16:18:13+03:00</td>\n",
              "      <td>6.0</td>\n",
              "      <td>5</td>\n",
              "    </tr>\n",
              "    <tr>\n",
              "      <th>...</th>\n",
              "      <td>...</td>\n",
              "      <td>...</td>\n",
              "      <td>...</td>\n",
              "      <td>...</td>\n",
              "    </tr>\n",
              "    <tr>\n",
              "      <th>39666</th>\n",
              "      <td>2019-06-30 22:11:32+03:00</td>\n",
              "      <td>2019-06-30 22:10:34+03:00</td>\n",
              "      <td>85.0</td>\n",
              "      <td>58</td>\n",
              "    </tr>\n",
              "    <tr>\n",
              "      <th>39667</th>\n",
              "      <td>2019-06-30 22:12:19+03:00</td>\n",
              "      <td>2019-06-30 22:11:32+03:00</td>\n",
              "      <td>64.0</td>\n",
              "      <td>47</td>\n",
              "    </tr>\n",
              "    <tr>\n",
              "      <th>39668</th>\n",
              "      <td>2019-06-30 22:13:07+03:00</td>\n",
              "      <td>2019-06-30 22:13:05+03:00</td>\n",
              "      <td>1.0</td>\n",
              "      <td>2</td>\n",
              "    </tr>\n",
              "    <tr>\n",
              "      <th>39669</th>\n",
              "      <td>2019-06-30 22:33:06+03:00</td>\n",
              "      <td>2019-06-30 22:30:00+03:00</td>\n",
              "      <td>13.0</td>\n",
              "      <td>186</td>\n",
              "    </tr>\n",
              "    <tr>\n",
              "      <th>39670</th>\n",
              "      <td>2019-06-30 22:33:19+03:00</td>\n",
              "      <td>2019-06-30 22:33:06+03:00</td>\n",
              "      <td>9.0</td>\n",
              "      <td>13</td>\n",
              "    </tr>\n",
              "  </tbody>\n",
              "</table>\n",
              "<p>39671 rows × 4 columns</p>\n",
              "</div>"
            ],
            "text/plain": [
              "              Time End Local Tz       Time Start Local Tz  Value  Length\n",
              "0     2019-05-05 12:40:00+03:00 2019-05-05 12:39:59+03:00    1.0       1\n",
              "1     2019-05-05 14:13:29+03:00 2019-05-05 14:12:51+03:00   34.0      38\n",
              "2     2019-05-05 15:07:42+03:00 2019-05-05 15:07:39+03:00    1.0       3\n",
              "3     2019-05-05 16:04:05+03:00 2019-05-05 16:04:02+03:00    3.0       3\n",
              "4     2019-05-05 16:18:18+03:00 2019-05-05 16:18:13+03:00    6.0       5\n",
              "...                         ...                       ...    ...     ...\n",
              "39666 2019-06-30 22:11:32+03:00 2019-06-30 22:10:34+03:00   85.0      58\n",
              "39667 2019-06-30 22:12:19+03:00 2019-06-30 22:11:32+03:00   64.0      47\n",
              "39668 2019-06-30 22:13:07+03:00 2019-06-30 22:13:05+03:00    1.0       2\n",
              "39669 2019-06-30 22:33:06+03:00 2019-06-30 22:30:00+03:00   13.0     186\n",
              "39670 2019-06-30 22:33:19+03:00 2019-06-30 22:33:06+03:00    9.0      13\n",
              "\n",
              "[39671 rows x 4 columns]"
            ]
          },
          "metadata": {
            "tags": []
          },
          "execution_count": 10
        }
      ]
    },
    {
      "cell_type": "markdown",
      "metadata": {
        "id": "WuPFZi_pJcrm",
        "colab_type": "text"
      },
      "source": [
        "##Так как в задаче нужно предсказывать день, посмотрим, сколько активностей переходят в новый день."
      ]
    },
    {
      "cell_type": "code",
      "metadata": {
        "id": "b2FvMVHv86DJ",
        "colab_type": "code",
        "outputId": "fc3baaba-7a37-4944-959e-8c8ee5a7c91b",
        "colab": {
          "base_uri": "https://localhost:8080/",
          "height": 34
        }
      },
      "source": [
        "df_train[ df_train['Time End Local Tz'].dt.dayofyear - df_train['Time Start Local Tz'].dt.dayofyear > 0].shape"
      ],
      "execution_count": 11,
      "outputs": [
        {
          "output_type": "execute_result",
          "data": {
            "text/plain": [
              "(8, 4)"
            ]
          },
          "metadata": {
            "tags": []
          },
          "execution_count": 11
        }
      ]
    },
    {
      "cell_type": "markdown",
      "metadata": {
        "id": "yq9L_7NEMjvy",
        "colab_type": "text"
      },
      "source": [
        "##Переходят 8 из 39671 (**0.02%**), будем игнорировать факт перехода. По этой же причине оставим только одну колонку дата-времени - *'Time Start Local Tz'*\n"
      ]
    },
    {
      "cell_type": "code",
      "metadata": {
        "id": "5ZdG1j_ZZXcc",
        "colab_type": "code",
        "outputId": "88f6d556-b534-45fb-ae8b-dc668c68ca7f",
        "colab": {
          "base_uri": "https://localhost:8080/",
          "height": 419
        }
      },
      "source": [
        "df_train.drop(['Time End Local Tz'], axis=1, inplace=True)\n",
        "df_train"
      ],
      "execution_count": 12,
      "outputs": [
        {
          "output_type": "execute_result",
          "data": {
            "text/html": [
              "<div>\n",
              "<style scoped>\n",
              "    .dataframe tbody tr th:only-of-type {\n",
              "        vertical-align: middle;\n",
              "    }\n",
              "\n",
              "    .dataframe tbody tr th {\n",
              "        vertical-align: top;\n",
              "    }\n",
              "\n",
              "    .dataframe thead th {\n",
              "        text-align: right;\n",
              "    }\n",
              "</style>\n",
              "<table border=\"1\" class=\"dataframe\">\n",
              "  <thead>\n",
              "    <tr style=\"text-align: right;\">\n",
              "      <th></th>\n",
              "      <th>Time Start Local Tz</th>\n",
              "      <th>Value</th>\n",
              "      <th>Length</th>\n",
              "    </tr>\n",
              "  </thead>\n",
              "  <tbody>\n",
              "    <tr>\n",
              "      <th>0</th>\n",
              "      <td>2019-05-05 12:39:59+03:00</td>\n",
              "      <td>1.0</td>\n",
              "      <td>1</td>\n",
              "    </tr>\n",
              "    <tr>\n",
              "      <th>1</th>\n",
              "      <td>2019-05-05 14:12:51+03:00</td>\n",
              "      <td>34.0</td>\n",
              "      <td>38</td>\n",
              "    </tr>\n",
              "    <tr>\n",
              "      <th>2</th>\n",
              "      <td>2019-05-05 15:07:39+03:00</td>\n",
              "      <td>1.0</td>\n",
              "      <td>3</td>\n",
              "    </tr>\n",
              "    <tr>\n",
              "      <th>3</th>\n",
              "      <td>2019-05-05 16:04:02+03:00</td>\n",
              "      <td>3.0</td>\n",
              "      <td>3</td>\n",
              "    </tr>\n",
              "    <tr>\n",
              "      <th>4</th>\n",
              "      <td>2019-05-05 16:18:13+03:00</td>\n",
              "      <td>6.0</td>\n",
              "      <td>5</td>\n",
              "    </tr>\n",
              "    <tr>\n",
              "      <th>...</th>\n",
              "      <td>...</td>\n",
              "      <td>...</td>\n",
              "      <td>...</td>\n",
              "    </tr>\n",
              "    <tr>\n",
              "      <th>39666</th>\n",
              "      <td>2019-06-30 22:10:34+03:00</td>\n",
              "      <td>85.0</td>\n",
              "      <td>58</td>\n",
              "    </tr>\n",
              "    <tr>\n",
              "      <th>39667</th>\n",
              "      <td>2019-06-30 22:11:32+03:00</td>\n",
              "      <td>64.0</td>\n",
              "      <td>47</td>\n",
              "    </tr>\n",
              "    <tr>\n",
              "      <th>39668</th>\n",
              "      <td>2019-06-30 22:13:05+03:00</td>\n",
              "      <td>1.0</td>\n",
              "      <td>2</td>\n",
              "    </tr>\n",
              "    <tr>\n",
              "      <th>39669</th>\n",
              "      <td>2019-06-30 22:30:00+03:00</td>\n",
              "      <td>13.0</td>\n",
              "      <td>186</td>\n",
              "    </tr>\n",
              "    <tr>\n",
              "      <th>39670</th>\n",
              "      <td>2019-06-30 22:33:06+03:00</td>\n",
              "      <td>9.0</td>\n",
              "      <td>13</td>\n",
              "    </tr>\n",
              "  </tbody>\n",
              "</table>\n",
              "<p>39671 rows × 3 columns</p>\n",
              "</div>"
            ],
            "text/plain": [
              "            Time Start Local Tz  Value  Length\n",
              "0     2019-05-05 12:39:59+03:00    1.0       1\n",
              "1     2019-05-05 14:12:51+03:00   34.0      38\n",
              "2     2019-05-05 15:07:39+03:00    1.0       3\n",
              "3     2019-05-05 16:04:02+03:00    3.0       3\n",
              "4     2019-05-05 16:18:13+03:00    6.0       5\n",
              "...                         ...    ...     ...\n",
              "39666 2019-06-30 22:10:34+03:00   85.0      58\n",
              "39667 2019-06-30 22:11:32+03:00   64.0      47\n",
              "39668 2019-06-30 22:13:05+03:00    1.0       2\n",
              "39669 2019-06-30 22:30:00+03:00   13.0     186\n",
              "39670 2019-06-30 22:33:06+03:00    9.0      13\n",
              "\n",
              "[39671 rows x 3 columns]"
            ]
          },
          "metadata": {
            "tags": []
          },
          "execution_count": 12
        }
      ]
    },
    {
      "cell_type": "markdown",
      "metadata": {
        "id": "lYKHWg8gbrU6",
        "colab_type": "text"
      },
      "source": [
        "##Добавим колонку с номером дня *'Dayofyear'*, по нему будем агрегировать статистики"
      ]
    },
    {
      "cell_type": "code",
      "metadata": {
        "id": "pD9hy3ndbgIV",
        "colab_type": "code",
        "outputId": "bcb7b714-0732-42e4-a302-af0f79bdbdd1",
        "colab": {
          "base_uri": "https://localhost:8080/",
          "height": 419
        }
      },
      "source": [
        "df_train['Dayofyear'] = df_train['Time Start Local Tz'].dt.dayofyear\n",
        "df_train"
      ],
      "execution_count": 13,
      "outputs": [
        {
          "output_type": "execute_result",
          "data": {
            "text/html": [
              "<div>\n",
              "<style scoped>\n",
              "    .dataframe tbody tr th:only-of-type {\n",
              "        vertical-align: middle;\n",
              "    }\n",
              "\n",
              "    .dataframe tbody tr th {\n",
              "        vertical-align: top;\n",
              "    }\n",
              "\n",
              "    .dataframe thead th {\n",
              "        text-align: right;\n",
              "    }\n",
              "</style>\n",
              "<table border=\"1\" class=\"dataframe\">\n",
              "  <thead>\n",
              "    <tr style=\"text-align: right;\">\n",
              "      <th></th>\n",
              "      <th>Time Start Local Tz</th>\n",
              "      <th>Value</th>\n",
              "      <th>Length</th>\n",
              "      <th>Dayofyear</th>\n",
              "    </tr>\n",
              "  </thead>\n",
              "  <tbody>\n",
              "    <tr>\n",
              "      <th>0</th>\n",
              "      <td>2019-05-05 12:39:59+03:00</td>\n",
              "      <td>1.0</td>\n",
              "      <td>1</td>\n",
              "      <td>125</td>\n",
              "    </tr>\n",
              "    <tr>\n",
              "      <th>1</th>\n",
              "      <td>2019-05-05 14:12:51+03:00</td>\n",
              "      <td>34.0</td>\n",
              "      <td>38</td>\n",
              "      <td>125</td>\n",
              "    </tr>\n",
              "    <tr>\n",
              "      <th>2</th>\n",
              "      <td>2019-05-05 15:07:39+03:00</td>\n",
              "      <td>1.0</td>\n",
              "      <td>3</td>\n",
              "      <td>125</td>\n",
              "    </tr>\n",
              "    <tr>\n",
              "      <th>3</th>\n",
              "      <td>2019-05-05 16:04:02+03:00</td>\n",
              "      <td>3.0</td>\n",
              "      <td>3</td>\n",
              "      <td>125</td>\n",
              "    </tr>\n",
              "    <tr>\n",
              "      <th>4</th>\n",
              "      <td>2019-05-05 16:18:13+03:00</td>\n",
              "      <td>6.0</td>\n",
              "      <td>5</td>\n",
              "      <td>125</td>\n",
              "    </tr>\n",
              "    <tr>\n",
              "      <th>...</th>\n",
              "      <td>...</td>\n",
              "      <td>...</td>\n",
              "      <td>...</td>\n",
              "      <td>...</td>\n",
              "    </tr>\n",
              "    <tr>\n",
              "      <th>39666</th>\n",
              "      <td>2019-06-30 22:10:34+03:00</td>\n",
              "      <td>85.0</td>\n",
              "      <td>58</td>\n",
              "      <td>181</td>\n",
              "    </tr>\n",
              "    <tr>\n",
              "      <th>39667</th>\n",
              "      <td>2019-06-30 22:11:32+03:00</td>\n",
              "      <td>64.0</td>\n",
              "      <td>47</td>\n",
              "      <td>181</td>\n",
              "    </tr>\n",
              "    <tr>\n",
              "      <th>39668</th>\n",
              "      <td>2019-06-30 22:13:05+03:00</td>\n",
              "      <td>1.0</td>\n",
              "      <td>2</td>\n",
              "      <td>181</td>\n",
              "    </tr>\n",
              "    <tr>\n",
              "      <th>39669</th>\n",
              "      <td>2019-06-30 22:30:00+03:00</td>\n",
              "      <td>13.0</td>\n",
              "      <td>186</td>\n",
              "      <td>181</td>\n",
              "    </tr>\n",
              "    <tr>\n",
              "      <th>39670</th>\n",
              "      <td>2019-06-30 22:33:06+03:00</td>\n",
              "      <td>9.0</td>\n",
              "      <td>13</td>\n",
              "      <td>181</td>\n",
              "    </tr>\n",
              "  </tbody>\n",
              "</table>\n",
              "<p>39671 rows × 4 columns</p>\n",
              "</div>"
            ],
            "text/plain": [
              "            Time Start Local Tz  Value  Length  Dayofyear\n",
              "0     2019-05-05 12:39:59+03:00    1.0       1        125\n",
              "1     2019-05-05 14:12:51+03:00   34.0      38        125\n",
              "2     2019-05-05 15:07:39+03:00    1.0       3        125\n",
              "3     2019-05-05 16:04:02+03:00    3.0       3        125\n",
              "4     2019-05-05 16:18:13+03:00    6.0       5        125\n",
              "...                         ...    ...     ...        ...\n",
              "39666 2019-06-30 22:10:34+03:00   85.0      58        181\n",
              "39667 2019-06-30 22:11:32+03:00   64.0      47        181\n",
              "39668 2019-06-30 22:13:05+03:00    1.0       2        181\n",
              "39669 2019-06-30 22:30:00+03:00   13.0     186        181\n",
              "39670 2019-06-30 22:33:06+03:00    9.0      13        181\n",
              "\n",
              "[39671 rows x 4 columns]"
            ]
          },
          "metadata": {
            "tags": []
          },
          "execution_count": 13
        }
      ]
    },
    {
      "cell_type": "markdown",
      "metadata": {
        "id": "R7THcSOhbBKT",
        "colab_type": "text"
      },
      "source": [
        "##Добавим временные фичи *'DOW'*, *'isWeekend'*, *'isWeekday'*, *'Month'*, *'Day'*, они могут быть полезны"
      ]
    },
    {
      "cell_type": "code",
      "metadata": {
        "id": "AAOVLrg97Xcr",
        "colab_type": "code",
        "outputId": "c433f42d-ebc5-4409-beab-15f41caf06ab",
        "colab": {
          "base_uri": "https://localhost:8080/",
          "height": 419
        }
      },
      "source": [
        "df_train['dow'] = df_train['Time Start Local Tz'].dt.dayofweek\n",
        "df_train['Day'] = df_train['Time Start Local Tz'].dt.day\n",
        "df_train['Month'] = df_train['Time Start Local Tz'].dt.month\n",
        "#Monday=0 and Sunday=6.\n",
        "df_train['isWeekend'] = (df_train['dow'] > 4).map(int)\n",
        "df_train['isWeekday'] = (df_train['dow'] < 5).map(int)\n",
        "df_train"
      ],
      "execution_count": 14,
      "outputs": [
        {
          "output_type": "execute_result",
          "data": {
            "text/html": [
              "<div>\n",
              "<style scoped>\n",
              "    .dataframe tbody tr th:only-of-type {\n",
              "        vertical-align: middle;\n",
              "    }\n",
              "\n",
              "    .dataframe tbody tr th {\n",
              "        vertical-align: top;\n",
              "    }\n",
              "\n",
              "    .dataframe thead th {\n",
              "        text-align: right;\n",
              "    }\n",
              "</style>\n",
              "<table border=\"1\" class=\"dataframe\">\n",
              "  <thead>\n",
              "    <tr style=\"text-align: right;\">\n",
              "      <th></th>\n",
              "      <th>Time Start Local Tz</th>\n",
              "      <th>Value</th>\n",
              "      <th>Length</th>\n",
              "      <th>Dayofyear</th>\n",
              "      <th>dow</th>\n",
              "      <th>Day</th>\n",
              "      <th>Month</th>\n",
              "      <th>isWeekend</th>\n",
              "      <th>isWeekday</th>\n",
              "    </tr>\n",
              "  </thead>\n",
              "  <tbody>\n",
              "    <tr>\n",
              "      <th>0</th>\n",
              "      <td>2019-05-05 12:39:59+03:00</td>\n",
              "      <td>1.0</td>\n",
              "      <td>1</td>\n",
              "      <td>125</td>\n",
              "      <td>6</td>\n",
              "      <td>5</td>\n",
              "      <td>5</td>\n",
              "      <td>1</td>\n",
              "      <td>0</td>\n",
              "    </tr>\n",
              "    <tr>\n",
              "      <th>1</th>\n",
              "      <td>2019-05-05 14:12:51+03:00</td>\n",
              "      <td>34.0</td>\n",
              "      <td>38</td>\n",
              "      <td>125</td>\n",
              "      <td>6</td>\n",
              "      <td>5</td>\n",
              "      <td>5</td>\n",
              "      <td>1</td>\n",
              "      <td>0</td>\n",
              "    </tr>\n",
              "    <tr>\n",
              "      <th>2</th>\n",
              "      <td>2019-05-05 15:07:39+03:00</td>\n",
              "      <td>1.0</td>\n",
              "      <td>3</td>\n",
              "      <td>125</td>\n",
              "      <td>6</td>\n",
              "      <td>5</td>\n",
              "      <td>5</td>\n",
              "      <td>1</td>\n",
              "      <td>0</td>\n",
              "    </tr>\n",
              "    <tr>\n",
              "      <th>3</th>\n",
              "      <td>2019-05-05 16:04:02+03:00</td>\n",
              "      <td>3.0</td>\n",
              "      <td>3</td>\n",
              "      <td>125</td>\n",
              "      <td>6</td>\n",
              "      <td>5</td>\n",
              "      <td>5</td>\n",
              "      <td>1</td>\n",
              "      <td>0</td>\n",
              "    </tr>\n",
              "    <tr>\n",
              "      <th>4</th>\n",
              "      <td>2019-05-05 16:18:13+03:00</td>\n",
              "      <td>6.0</td>\n",
              "      <td>5</td>\n",
              "      <td>125</td>\n",
              "      <td>6</td>\n",
              "      <td>5</td>\n",
              "      <td>5</td>\n",
              "      <td>1</td>\n",
              "      <td>0</td>\n",
              "    </tr>\n",
              "    <tr>\n",
              "      <th>...</th>\n",
              "      <td>...</td>\n",
              "      <td>...</td>\n",
              "      <td>...</td>\n",
              "      <td>...</td>\n",
              "      <td>...</td>\n",
              "      <td>...</td>\n",
              "      <td>...</td>\n",
              "      <td>...</td>\n",
              "      <td>...</td>\n",
              "    </tr>\n",
              "    <tr>\n",
              "      <th>39666</th>\n",
              "      <td>2019-06-30 22:10:34+03:00</td>\n",
              "      <td>85.0</td>\n",
              "      <td>58</td>\n",
              "      <td>181</td>\n",
              "      <td>6</td>\n",
              "      <td>30</td>\n",
              "      <td>6</td>\n",
              "      <td>1</td>\n",
              "      <td>0</td>\n",
              "    </tr>\n",
              "    <tr>\n",
              "      <th>39667</th>\n",
              "      <td>2019-06-30 22:11:32+03:00</td>\n",
              "      <td>64.0</td>\n",
              "      <td>47</td>\n",
              "      <td>181</td>\n",
              "      <td>6</td>\n",
              "      <td>30</td>\n",
              "      <td>6</td>\n",
              "      <td>1</td>\n",
              "      <td>0</td>\n",
              "    </tr>\n",
              "    <tr>\n",
              "      <th>39668</th>\n",
              "      <td>2019-06-30 22:13:05+03:00</td>\n",
              "      <td>1.0</td>\n",
              "      <td>2</td>\n",
              "      <td>181</td>\n",
              "      <td>6</td>\n",
              "      <td>30</td>\n",
              "      <td>6</td>\n",
              "      <td>1</td>\n",
              "      <td>0</td>\n",
              "    </tr>\n",
              "    <tr>\n",
              "      <th>39669</th>\n",
              "      <td>2019-06-30 22:30:00+03:00</td>\n",
              "      <td>13.0</td>\n",
              "      <td>186</td>\n",
              "      <td>181</td>\n",
              "      <td>6</td>\n",
              "      <td>30</td>\n",
              "      <td>6</td>\n",
              "      <td>1</td>\n",
              "      <td>0</td>\n",
              "    </tr>\n",
              "    <tr>\n",
              "      <th>39670</th>\n",
              "      <td>2019-06-30 22:33:06+03:00</td>\n",
              "      <td>9.0</td>\n",
              "      <td>13</td>\n",
              "      <td>181</td>\n",
              "      <td>6</td>\n",
              "      <td>30</td>\n",
              "      <td>6</td>\n",
              "      <td>1</td>\n",
              "      <td>0</td>\n",
              "    </tr>\n",
              "  </tbody>\n",
              "</table>\n",
              "<p>39671 rows × 9 columns</p>\n",
              "</div>"
            ],
            "text/plain": [
              "            Time Start Local Tz  Value  Length  ...  Month  isWeekend  isWeekday\n",
              "0     2019-05-05 12:39:59+03:00    1.0       1  ...      5          1          0\n",
              "1     2019-05-05 14:12:51+03:00   34.0      38  ...      5          1          0\n",
              "2     2019-05-05 15:07:39+03:00    1.0       3  ...      5          1          0\n",
              "3     2019-05-05 16:04:02+03:00    3.0       3  ...      5          1          0\n",
              "4     2019-05-05 16:18:13+03:00    6.0       5  ...      5          1          0\n",
              "...                         ...    ...     ...  ...    ...        ...        ...\n",
              "39666 2019-06-30 22:10:34+03:00   85.0      58  ...      6          1          0\n",
              "39667 2019-06-30 22:11:32+03:00   64.0      47  ...      6          1          0\n",
              "39668 2019-06-30 22:13:05+03:00    1.0       2  ...      6          1          0\n",
              "39669 2019-06-30 22:30:00+03:00   13.0     186  ...      6          1          0\n",
              "39670 2019-06-30 22:33:06+03:00    9.0      13  ...      6          1          0\n",
              "\n",
              "[39671 rows x 9 columns]"
            ]
          },
          "metadata": {
            "tags": []
          },
          "execution_count": 14
        }
      ]
    },
    {
      "cell_type": "markdown",
      "metadata": {
        "id": "2zaOlJYTQEcX",
        "colab_type": "text"
      },
      "source": [
        "##Добавим статистики по дням для фичей *'Value'* и *'Length'*: count, mean, std, max, min, sum"
      ]
    },
    {
      "cell_type": "code",
      "metadata": {
        "id": "sitwnx5kRvUg",
        "colab_type": "code",
        "outputId": "6d972d4c-4cbb-43fe-ca23-e6401461b8c9",
        "colab": {
          "base_uri": "https://localhost:8080/",
          "height": 626
        }
      },
      "source": [
        "def add_aggregates(X, aggs=None, cols=[]):\n",
        "\n",
        "  if aggs is None:\n",
        "    aggs = ['std', 'sum', 'max', 'min', 'mean', 'count']\n",
        "\n",
        "  grouped_by = X.groupby('Dayofyear')\n",
        "  all_features = []\n",
        "  \n",
        "  # add count\n",
        "  if 'count' in aggs:\n",
        "    grouped = grouped_by.agg({'Dayofyear': 'count'})\n",
        "    grouped.columns = ['count']\n",
        "    all_features.append( grouped )\n",
        "    aggs.remove('count')\n",
        "  \n",
        "  for col in cols:\n",
        "    grouped = grouped_by.agg({col: aggs}) \n",
        "    grouped.columns = [\"_\".join(x) for x in grouped.columns.ravel()]\n",
        "    all_features.append(grouped)\n",
        "  \n",
        "  if len(all_features)>0:\n",
        "    all_features = pd.concat(all_features, axis=1)\n",
        "    X = X.merge(all_features, on=('Dayofyear'))\n",
        "\n",
        "  return X\n",
        "\n",
        "df_train = add_aggregates(df_train, cols=['Value',\t'Length'])\n",
        "df_train"
      ],
      "execution_count": 15,
      "outputs": [
        {
          "output_type": "execute_result",
          "data": {
            "text/html": [
              "<div>\n",
              "<style scoped>\n",
              "    .dataframe tbody tr th:only-of-type {\n",
              "        vertical-align: middle;\n",
              "    }\n",
              "\n",
              "    .dataframe tbody tr th {\n",
              "        vertical-align: top;\n",
              "    }\n",
              "\n",
              "    .dataframe thead th {\n",
              "        text-align: right;\n",
              "    }\n",
              "</style>\n",
              "<table border=\"1\" class=\"dataframe\">\n",
              "  <thead>\n",
              "    <tr style=\"text-align: right;\">\n",
              "      <th></th>\n",
              "      <th>Time Start Local Tz</th>\n",
              "      <th>Value</th>\n",
              "      <th>Length</th>\n",
              "      <th>Dayofyear</th>\n",
              "      <th>dow</th>\n",
              "      <th>Day</th>\n",
              "      <th>Month</th>\n",
              "      <th>isWeekend</th>\n",
              "      <th>isWeekday</th>\n",
              "      <th>count</th>\n",
              "      <th>Value_std</th>\n",
              "      <th>Value_sum</th>\n",
              "      <th>Value_max</th>\n",
              "      <th>Value_min</th>\n",
              "      <th>Value_mean</th>\n",
              "      <th>Length_std</th>\n",
              "      <th>Length_sum</th>\n",
              "      <th>Length_max</th>\n",
              "      <th>Length_min</th>\n",
              "      <th>Length_mean</th>\n",
              "    </tr>\n",
              "  </thead>\n",
              "  <tbody>\n",
              "    <tr>\n",
              "      <th>0</th>\n",
              "      <td>2019-05-05 12:39:59+03:00</td>\n",
              "      <td>1.0</td>\n",
              "      <td>1</td>\n",
              "      <td>125</td>\n",
              "      <td>6</td>\n",
              "      <td>5</td>\n",
              "      <td>5</td>\n",
              "      <td>1</td>\n",
              "      <td>0</td>\n",
              "      <td>250</td>\n",
              "      <td>61.396156</td>\n",
              "      <td>11124.0</td>\n",
              "      <td>535.0</td>\n",
              "      <td>1.0</td>\n",
              "      <td>44.496000</td>\n",
              "      <td>128.055442</td>\n",
              "      <td>23977</td>\n",
              "      <td>581</td>\n",
              "      <td>1</td>\n",
              "      <td>95.908000</td>\n",
              "    </tr>\n",
              "    <tr>\n",
              "      <th>1</th>\n",
              "      <td>2019-05-05 14:12:51+03:00</td>\n",
              "      <td>34.0</td>\n",
              "      <td>38</td>\n",
              "      <td>125</td>\n",
              "      <td>6</td>\n",
              "      <td>5</td>\n",
              "      <td>5</td>\n",
              "      <td>1</td>\n",
              "      <td>0</td>\n",
              "      <td>250</td>\n",
              "      <td>61.396156</td>\n",
              "      <td>11124.0</td>\n",
              "      <td>535.0</td>\n",
              "      <td>1.0</td>\n",
              "      <td>44.496000</td>\n",
              "      <td>128.055442</td>\n",
              "      <td>23977</td>\n",
              "      <td>581</td>\n",
              "      <td>1</td>\n",
              "      <td>95.908000</td>\n",
              "    </tr>\n",
              "    <tr>\n",
              "      <th>2</th>\n",
              "      <td>2019-05-05 15:07:39+03:00</td>\n",
              "      <td>1.0</td>\n",
              "      <td>3</td>\n",
              "      <td>125</td>\n",
              "      <td>6</td>\n",
              "      <td>5</td>\n",
              "      <td>5</td>\n",
              "      <td>1</td>\n",
              "      <td>0</td>\n",
              "      <td>250</td>\n",
              "      <td>61.396156</td>\n",
              "      <td>11124.0</td>\n",
              "      <td>535.0</td>\n",
              "      <td>1.0</td>\n",
              "      <td>44.496000</td>\n",
              "      <td>128.055442</td>\n",
              "      <td>23977</td>\n",
              "      <td>581</td>\n",
              "      <td>1</td>\n",
              "      <td>95.908000</td>\n",
              "    </tr>\n",
              "    <tr>\n",
              "      <th>3</th>\n",
              "      <td>2019-05-05 16:04:02+03:00</td>\n",
              "      <td>3.0</td>\n",
              "      <td>3</td>\n",
              "      <td>125</td>\n",
              "      <td>6</td>\n",
              "      <td>5</td>\n",
              "      <td>5</td>\n",
              "      <td>1</td>\n",
              "      <td>0</td>\n",
              "      <td>250</td>\n",
              "      <td>61.396156</td>\n",
              "      <td>11124.0</td>\n",
              "      <td>535.0</td>\n",
              "      <td>1.0</td>\n",
              "      <td>44.496000</td>\n",
              "      <td>128.055442</td>\n",
              "      <td>23977</td>\n",
              "      <td>581</td>\n",
              "      <td>1</td>\n",
              "      <td>95.908000</td>\n",
              "    </tr>\n",
              "    <tr>\n",
              "      <th>4</th>\n",
              "      <td>2019-05-05 16:18:13+03:00</td>\n",
              "      <td>6.0</td>\n",
              "      <td>5</td>\n",
              "      <td>125</td>\n",
              "      <td>6</td>\n",
              "      <td>5</td>\n",
              "      <td>5</td>\n",
              "      <td>1</td>\n",
              "      <td>0</td>\n",
              "      <td>250</td>\n",
              "      <td>61.396156</td>\n",
              "      <td>11124.0</td>\n",
              "      <td>535.0</td>\n",
              "      <td>1.0</td>\n",
              "      <td>44.496000</td>\n",
              "      <td>128.055442</td>\n",
              "      <td>23977</td>\n",
              "      <td>581</td>\n",
              "      <td>1</td>\n",
              "      <td>95.908000</td>\n",
              "    </tr>\n",
              "    <tr>\n",
              "      <th>...</th>\n",
              "      <td>...</td>\n",
              "      <td>...</td>\n",
              "      <td>...</td>\n",
              "      <td>...</td>\n",
              "      <td>...</td>\n",
              "      <td>...</td>\n",
              "      <td>...</td>\n",
              "      <td>...</td>\n",
              "      <td>...</td>\n",
              "      <td>...</td>\n",
              "      <td>...</td>\n",
              "      <td>...</td>\n",
              "      <td>...</td>\n",
              "      <td>...</td>\n",
              "      <td>...</td>\n",
              "      <td>...</td>\n",
              "      <td>...</td>\n",
              "      <td>...</td>\n",
              "      <td>...</td>\n",
              "      <td>...</td>\n",
              "    </tr>\n",
              "    <tr>\n",
              "      <th>39666</th>\n",
              "      <td>2019-06-02 21:48:05+03:00</td>\n",
              "      <td>24.0</td>\n",
              "      <td>54</td>\n",
              "      <td>153</td>\n",
              "      <td>6</td>\n",
              "      <td>2</td>\n",
              "      <td>6</td>\n",
              "      <td>1</td>\n",
              "      <td>0</td>\n",
              "      <td>349</td>\n",
              "      <td>61.323586</td>\n",
              "      <td>14761.0</td>\n",
              "      <td>491.0</td>\n",
              "      <td>1.0</td>\n",
              "      <td>42.295129</td>\n",
              "      <td>110.916333</td>\n",
              "      <td>24396</td>\n",
              "      <td>594</td>\n",
              "      <td>1</td>\n",
              "      <td>69.902579</td>\n",
              "    </tr>\n",
              "    <tr>\n",
              "      <th>39667</th>\n",
              "      <td>2019-06-02 21:51:09+03:00</td>\n",
              "      <td>16.0</td>\n",
              "      <td>46</td>\n",
              "      <td>153</td>\n",
              "      <td>6</td>\n",
              "      <td>2</td>\n",
              "      <td>6</td>\n",
              "      <td>1</td>\n",
              "      <td>0</td>\n",
              "      <td>349</td>\n",
              "      <td>61.323586</td>\n",
              "      <td>14761.0</td>\n",
              "      <td>491.0</td>\n",
              "      <td>1.0</td>\n",
              "      <td>42.295129</td>\n",
              "      <td>110.916333</td>\n",
              "      <td>24396</td>\n",
              "      <td>594</td>\n",
              "      <td>1</td>\n",
              "      <td>69.902579</td>\n",
              "    </tr>\n",
              "    <tr>\n",
              "      <th>39668</th>\n",
              "      <td>2019-06-02 21:52:08+03:00</td>\n",
              "      <td>14.0</td>\n",
              "      <td>39</td>\n",
              "      <td>153</td>\n",
              "      <td>6</td>\n",
              "      <td>2</td>\n",
              "      <td>6</td>\n",
              "      <td>1</td>\n",
              "      <td>0</td>\n",
              "      <td>349</td>\n",
              "      <td>61.323586</td>\n",
              "      <td>14761.0</td>\n",
              "      <td>491.0</td>\n",
              "      <td>1.0</td>\n",
              "      <td>42.295129</td>\n",
              "      <td>110.916333</td>\n",
              "      <td>24396</td>\n",
              "      <td>594</td>\n",
              "      <td>1</td>\n",
              "      <td>69.902579</td>\n",
              "    </tr>\n",
              "    <tr>\n",
              "      <th>39669</th>\n",
              "      <td>2019-06-02 23:10:07+03:00</td>\n",
              "      <td>5.0</td>\n",
              "      <td>5</td>\n",
              "      <td>153</td>\n",
              "      <td>6</td>\n",
              "      <td>2</td>\n",
              "      <td>6</td>\n",
              "      <td>1</td>\n",
              "      <td>0</td>\n",
              "      <td>349</td>\n",
              "      <td>61.323586</td>\n",
              "      <td>14761.0</td>\n",
              "      <td>491.0</td>\n",
              "      <td>1.0</td>\n",
              "      <td>42.295129</td>\n",
              "      <td>110.916333</td>\n",
              "      <td>24396</td>\n",
              "      <td>594</td>\n",
              "      <td>1</td>\n",
              "      <td>69.902579</td>\n",
              "    </tr>\n",
              "    <tr>\n",
              "      <th>39670</th>\n",
              "      <td>2019-06-02 23:10:30+03:00</td>\n",
              "      <td>21.0</td>\n",
              "      <td>15</td>\n",
              "      <td>153</td>\n",
              "      <td>6</td>\n",
              "      <td>2</td>\n",
              "      <td>6</td>\n",
              "      <td>1</td>\n",
              "      <td>0</td>\n",
              "      <td>349</td>\n",
              "      <td>61.323586</td>\n",
              "      <td>14761.0</td>\n",
              "      <td>491.0</td>\n",
              "      <td>1.0</td>\n",
              "      <td>42.295129</td>\n",
              "      <td>110.916333</td>\n",
              "      <td>24396</td>\n",
              "      <td>594</td>\n",
              "      <td>1</td>\n",
              "      <td>69.902579</td>\n",
              "    </tr>\n",
              "  </tbody>\n",
              "</table>\n",
              "<p>39671 rows × 20 columns</p>\n",
              "</div>"
            ],
            "text/plain": [
              "            Time Start Local Tz  Value  ...  Length_min  Length_mean\n",
              "0     2019-05-05 12:39:59+03:00    1.0  ...           1    95.908000\n",
              "1     2019-05-05 14:12:51+03:00   34.0  ...           1    95.908000\n",
              "2     2019-05-05 15:07:39+03:00    1.0  ...           1    95.908000\n",
              "3     2019-05-05 16:04:02+03:00    3.0  ...           1    95.908000\n",
              "4     2019-05-05 16:18:13+03:00    6.0  ...           1    95.908000\n",
              "...                         ...    ...  ...         ...          ...\n",
              "39666 2019-06-02 21:48:05+03:00   24.0  ...           1    69.902579\n",
              "39667 2019-06-02 21:51:09+03:00   16.0  ...           1    69.902579\n",
              "39668 2019-06-02 21:52:08+03:00   14.0  ...           1    69.902579\n",
              "39669 2019-06-02 23:10:07+03:00    5.0  ...           1    69.902579\n",
              "39670 2019-06-02 23:10:30+03:00   21.0  ...           1    69.902579\n",
              "\n",
              "[39671 rows x 20 columns]"
            ]
          },
          "metadata": {
            "tags": []
          },
          "execution_count": 15
        }
      ]
    },
    {
      "cell_type": "markdown",
      "metadata": {
        "id": "gob15ABe5wdX",
        "colab_type": "text"
      },
      "source": [
        "##Проверим, есть ли NA"
      ]
    },
    {
      "cell_type": "code",
      "metadata": {
        "id": "DnOkEVZl3778",
        "colab_type": "code",
        "outputId": "14629702-e171-4588-d4e6-03b4f71caabb",
        "colab": {
          "base_uri": "https://localhost:8080/",
          "height": 34
        }
      },
      "source": [
        "df_train.isna().sum().sum()"
      ],
      "execution_count": 16,
      "outputs": [
        {
          "output_type": "execute_result",
          "data": {
            "text/plain": [
              "0"
            ]
          },
          "metadata": {
            "tags": []
          },
          "execution_count": 16
        }
      ]
    },
    {
      "cell_type": "markdown",
      "metadata": {
        "id": "Dvaw6YsL7ARp",
        "colab_type": "text"
      },
      "source": [
        "##Теперь у нас есть *'Dayofyear'*, поэтому удалим *'Time Start Local Tz'*"
      ]
    },
    {
      "cell_type": "code",
      "metadata": {
        "id": "UkxTxNTt6_df",
        "colab_type": "code",
        "outputId": "22fbdf9a-1016-4c43-82ef-6c140107159d",
        "colab": {
          "base_uri": "https://localhost:8080/",
          "height": 439
        }
      },
      "source": [
        "df_train.drop(['Time Start Local Tz'], axis=1, inplace=True)\n",
        "df_train"
      ],
      "execution_count": 17,
      "outputs": [
        {
          "output_type": "execute_result",
          "data": {
            "text/html": [
              "<div>\n",
              "<style scoped>\n",
              "    .dataframe tbody tr th:only-of-type {\n",
              "        vertical-align: middle;\n",
              "    }\n",
              "\n",
              "    .dataframe tbody tr th {\n",
              "        vertical-align: top;\n",
              "    }\n",
              "\n",
              "    .dataframe thead th {\n",
              "        text-align: right;\n",
              "    }\n",
              "</style>\n",
              "<table border=\"1\" class=\"dataframe\">\n",
              "  <thead>\n",
              "    <tr style=\"text-align: right;\">\n",
              "      <th></th>\n",
              "      <th>Value</th>\n",
              "      <th>Length</th>\n",
              "      <th>Dayofyear</th>\n",
              "      <th>dow</th>\n",
              "      <th>Day</th>\n",
              "      <th>Month</th>\n",
              "      <th>isWeekend</th>\n",
              "      <th>isWeekday</th>\n",
              "      <th>count</th>\n",
              "      <th>Value_std</th>\n",
              "      <th>Value_sum</th>\n",
              "      <th>Value_max</th>\n",
              "      <th>Value_min</th>\n",
              "      <th>Value_mean</th>\n",
              "      <th>Length_std</th>\n",
              "      <th>Length_sum</th>\n",
              "      <th>Length_max</th>\n",
              "      <th>Length_min</th>\n",
              "      <th>Length_mean</th>\n",
              "    </tr>\n",
              "  </thead>\n",
              "  <tbody>\n",
              "    <tr>\n",
              "      <th>0</th>\n",
              "      <td>1.0</td>\n",
              "      <td>1</td>\n",
              "      <td>125</td>\n",
              "      <td>6</td>\n",
              "      <td>5</td>\n",
              "      <td>5</td>\n",
              "      <td>1</td>\n",
              "      <td>0</td>\n",
              "      <td>250</td>\n",
              "      <td>61.396156</td>\n",
              "      <td>11124.0</td>\n",
              "      <td>535.0</td>\n",
              "      <td>1.0</td>\n",
              "      <td>44.496000</td>\n",
              "      <td>128.055442</td>\n",
              "      <td>23977</td>\n",
              "      <td>581</td>\n",
              "      <td>1</td>\n",
              "      <td>95.908000</td>\n",
              "    </tr>\n",
              "    <tr>\n",
              "      <th>1</th>\n",
              "      <td>34.0</td>\n",
              "      <td>38</td>\n",
              "      <td>125</td>\n",
              "      <td>6</td>\n",
              "      <td>5</td>\n",
              "      <td>5</td>\n",
              "      <td>1</td>\n",
              "      <td>0</td>\n",
              "      <td>250</td>\n",
              "      <td>61.396156</td>\n",
              "      <td>11124.0</td>\n",
              "      <td>535.0</td>\n",
              "      <td>1.0</td>\n",
              "      <td>44.496000</td>\n",
              "      <td>128.055442</td>\n",
              "      <td>23977</td>\n",
              "      <td>581</td>\n",
              "      <td>1</td>\n",
              "      <td>95.908000</td>\n",
              "    </tr>\n",
              "    <tr>\n",
              "      <th>2</th>\n",
              "      <td>1.0</td>\n",
              "      <td>3</td>\n",
              "      <td>125</td>\n",
              "      <td>6</td>\n",
              "      <td>5</td>\n",
              "      <td>5</td>\n",
              "      <td>1</td>\n",
              "      <td>0</td>\n",
              "      <td>250</td>\n",
              "      <td>61.396156</td>\n",
              "      <td>11124.0</td>\n",
              "      <td>535.0</td>\n",
              "      <td>1.0</td>\n",
              "      <td>44.496000</td>\n",
              "      <td>128.055442</td>\n",
              "      <td>23977</td>\n",
              "      <td>581</td>\n",
              "      <td>1</td>\n",
              "      <td>95.908000</td>\n",
              "    </tr>\n",
              "    <tr>\n",
              "      <th>3</th>\n",
              "      <td>3.0</td>\n",
              "      <td>3</td>\n",
              "      <td>125</td>\n",
              "      <td>6</td>\n",
              "      <td>5</td>\n",
              "      <td>5</td>\n",
              "      <td>1</td>\n",
              "      <td>0</td>\n",
              "      <td>250</td>\n",
              "      <td>61.396156</td>\n",
              "      <td>11124.0</td>\n",
              "      <td>535.0</td>\n",
              "      <td>1.0</td>\n",
              "      <td>44.496000</td>\n",
              "      <td>128.055442</td>\n",
              "      <td>23977</td>\n",
              "      <td>581</td>\n",
              "      <td>1</td>\n",
              "      <td>95.908000</td>\n",
              "    </tr>\n",
              "    <tr>\n",
              "      <th>4</th>\n",
              "      <td>6.0</td>\n",
              "      <td>5</td>\n",
              "      <td>125</td>\n",
              "      <td>6</td>\n",
              "      <td>5</td>\n",
              "      <td>5</td>\n",
              "      <td>1</td>\n",
              "      <td>0</td>\n",
              "      <td>250</td>\n",
              "      <td>61.396156</td>\n",
              "      <td>11124.0</td>\n",
              "      <td>535.0</td>\n",
              "      <td>1.0</td>\n",
              "      <td>44.496000</td>\n",
              "      <td>128.055442</td>\n",
              "      <td>23977</td>\n",
              "      <td>581</td>\n",
              "      <td>1</td>\n",
              "      <td>95.908000</td>\n",
              "    </tr>\n",
              "    <tr>\n",
              "      <th>...</th>\n",
              "      <td>...</td>\n",
              "      <td>...</td>\n",
              "      <td>...</td>\n",
              "      <td>...</td>\n",
              "      <td>...</td>\n",
              "      <td>...</td>\n",
              "      <td>...</td>\n",
              "      <td>...</td>\n",
              "      <td>...</td>\n",
              "      <td>...</td>\n",
              "      <td>...</td>\n",
              "      <td>...</td>\n",
              "      <td>...</td>\n",
              "      <td>...</td>\n",
              "      <td>...</td>\n",
              "      <td>...</td>\n",
              "      <td>...</td>\n",
              "      <td>...</td>\n",
              "      <td>...</td>\n",
              "    </tr>\n",
              "    <tr>\n",
              "      <th>39666</th>\n",
              "      <td>24.0</td>\n",
              "      <td>54</td>\n",
              "      <td>153</td>\n",
              "      <td>6</td>\n",
              "      <td>2</td>\n",
              "      <td>6</td>\n",
              "      <td>1</td>\n",
              "      <td>0</td>\n",
              "      <td>349</td>\n",
              "      <td>61.323586</td>\n",
              "      <td>14761.0</td>\n",
              "      <td>491.0</td>\n",
              "      <td>1.0</td>\n",
              "      <td>42.295129</td>\n",
              "      <td>110.916333</td>\n",
              "      <td>24396</td>\n",
              "      <td>594</td>\n",
              "      <td>1</td>\n",
              "      <td>69.902579</td>\n",
              "    </tr>\n",
              "    <tr>\n",
              "      <th>39667</th>\n",
              "      <td>16.0</td>\n",
              "      <td>46</td>\n",
              "      <td>153</td>\n",
              "      <td>6</td>\n",
              "      <td>2</td>\n",
              "      <td>6</td>\n",
              "      <td>1</td>\n",
              "      <td>0</td>\n",
              "      <td>349</td>\n",
              "      <td>61.323586</td>\n",
              "      <td>14761.0</td>\n",
              "      <td>491.0</td>\n",
              "      <td>1.0</td>\n",
              "      <td>42.295129</td>\n",
              "      <td>110.916333</td>\n",
              "      <td>24396</td>\n",
              "      <td>594</td>\n",
              "      <td>1</td>\n",
              "      <td>69.902579</td>\n",
              "    </tr>\n",
              "    <tr>\n",
              "      <th>39668</th>\n",
              "      <td>14.0</td>\n",
              "      <td>39</td>\n",
              "      <td>153</td>\n",
              "      <td>6</td>\n",
              "      <td>2</td>\n",
              "      <td>6</td>\n",
              "      <td>1</td>\n",
              "      <td>0</td>\n",
              "      <td>349</td>\n",
              "      <td>61.323586</td>\n",
              "      <td>14761.0</td>\n",
              "      <td>491.0</td>\n",
              "      <td>1.0</td>\n",
              "      <td>42.295129</td>\n",
              "      <td>110.916333</td>\n",
              "      <td>24396</td>\n",
              "      <td>594</td>\n",
              "      <td>1</td>\n",
              "      <td>69.902579</td>\n",
              "    </tr>\n",
              "    <tr>\n",
              "      <th>39669</th>\n",
              "      <td>5.0</td>\n",
              "      <td>5</td>\n",
              "      <td>153</td>\n",
              "      <td>6</td>\n",
              "      <td>2</td>\n",
              "      <td>6</td>\n",
              "      <td>1</td>\n",
              "      <td>0</td>\n",
              "      <td>349</td>\n",
              "      <td>61.323586</td>\n",
              "      <td>14761.0</td>\n",
              "      <td>491.0</td>\n",
              "      <td>1.0</td>\n",
              "      <td>42.295129</td>\n",
              "      <td>110.916333</td>\n",
              "      <td>24396</td>\n",
              "      <td>594</td>\n",
              "      <td>1</td>\n",
              "      <td>69.902579</td>\n",
              "    </tr>\n",
              "    <tr>\n",
              "      <th>39670</th>\n",
              "      <td>21.0</td>\n",
              "      <td>15</td>\n",
              "      <td>153</td>\n",
              "      <td>6</td>\n",
              "      <td>2</td>\n",
              "      <td>6</td>\n",
              "      <td>1</td>\n",
              "      <td>0</td>\n",
              "      <td>349</td>\n",
              "      <td>61.323586</td>\n",
              "      <td>14761.0</td>\n",
              "      <td>491.0</td>\n",
              "      <td>1.0</td>\n",
              "      <td>42.295129</td>\n",
              "      <td>110.916333</td>\n",
              "      <td>24396</td>\n",
              "      <td>594</td>\n",
              "      <td>1</td>\n",
              "      <td>69.902579</td>\n",
              "    </tr>\n",
              "  </tbody>\n",
              "</table>\n",
              "<p>39671 rows × 19 columns</p>\n",
              "</div>"
            ],
            "text/plain": [
              "       Value  Length  Dayofyear  ...  Length_max  Length_min  Length_mean\n",
              "0        1.0       1        125  ...         581           1    95.908000\n",
              "1       34.0      38        125  ...         581           1    95.908000\n",
              "2        1.0       3        125  ...         581           1    95.908000\n",
              "3        3.0       3        125  ...         581           1    95.908000\n",
              "4        6.0       5        125  ...         581           1    95.908000\n",
              "...      ...     ...        ...  ...         ...         ...          ...\n",
              "39666   24.0      54        153  ...         594           1    69.902579\n",
              "39667   16.0      46        153  ...         594           1    69.902579\n",
              "39668   14.0      39        153  ...         594           1    69.902579\n",
              "39669    5.0       5        153  ...         594           1    69.902579\n",
              "39670   21.0      15        153  ...         594           1    69.902579\n",
              "\n",
              "[39671 rows x 19 columns]"
            ]
          },
          "metadata": {
            "tags": []
          },
          "execution_count": 17
        }
      ]
    },
    {
      "cell_type": "markdown",
      "metadata": {
        "id": "Q-Q3EpCMRzov",
        "colab_type": "text"
      },
      "source": [
        "##Теперь схлопнем датасет по дням и удалим колонки *'Value'* и *'Length'*, так как у нас есть агрегаты для них"
      ]
    },
    {
      "cell_type": "code",
      "metadata": {
        "id": "yvHgth2MRyyx",
        "colab_type": "code",
        "outputId": "acea0b43-4ea7-4914-895a-9bee69d2ba54",
        "colab": {
          "base_uri": "https://localhost:8080/",
          "height": 470
        }
      },
      "source": [
        "df_train.drop(['Value', 'Length'], axis=1, inplace=True)\n",
        "\n",
        "df_train = df_train.set_index('Dayofyear')\n",
        "df_train = df_train.groupby(df_train.index).first()\n",
        "df_train"
      ],
      "execution_count": 18,
      "outputs": [
        {
          "output_type": "execute_result",
          "data": {
            "text/html": [
              "<div>\n",
              "<style scoped>\n",
              "    .dataframe tbody tr th:only-of-type {\n",
              "        vertical-align: middle;\n",
              "    }\n",
              "\n",
              "    .dataframe tbody tr th {\n",
              "        vertical-align: top;\n",
              "    }\n",
              "\n",
              "    .dataframe thead th {\n",
              "        text-align: right;\n",
              "    }\n",
              "</style>\n",
              "<table border=\"1\" class=\"dataframe\">\n",
              "  <thead>\n",
              "    <tr style=\"text-align: right;\">\n",
              "      <th></th>\n",
              "      <th>dow</th>\n",
              "      <th>Day</th>\n",
              "      <th>Month</th>\n",
              "      <th>isWeekend</th>\n",
              "      <th>isWeekday</th>\n",
              "      <th>count</th>\n",
              "      <th>Value_std</th>\n",
              "      <th>Value_sum</th>\n",
              "      <th>Value_max</th>\n",
              "      <th>Value_min</th>\n",
              "      <th>Value_mean</th>\n",
              "      <th>Length_std</th>\n",
              "      <th>Length_sum</th>\n",
              "      <th>Length_max</th>\n",
              "      <th>Length_min</th>\n",
              "      <th>Length_mean</th>\n",
              "    </tr>\n",
              "    <tr>\n",
              "      <th>Dayofyear</th>\n",
              "      <th></th>\n",
              "      <th></th>\n",
              "      <th></th>\n",
              "      <th></th>\n",
              "      <th></th>\n",
              "      <th></th>\n",
              "      <th></th>\n",
              "      <th></th>\n",
              "      <th></th>\n",
              "      <th></th>\n",
              "      <th></th>\n",
              "      <th></th>\n",
              "      <th></th>\n",
              "      <th></th>\n",
              "      <th></th>\n",
              "      <th></th>\n",
              "    </tr>\n",
              "  </thead>\n",
              "  <tbody>\n",
              "    <tr>\n",
              "      <th>122</th>\n",
              "      <td>3</td>\n",
              "      <td>2</td>\n",
              "      <td>5</td>\n",
              "      <td>0</td>\n",
              "      <td>1</td>\n",
              "      <td>213</td>\n",
              "      <td>105.440871</td>\n",
              "      <td>12977.0</td>\n",
              "      <td>887.0</td>\n",
              "      <td>1.0</td>\n",
              "      <td>60.924883</td>\n",
              "      <td>137.427149</td>\n",
              "      <td>20214</td>\n",
              "      <td>593</td>\n",
              "      <td>1</td>\n",
              "      <td>94.901408</td>\n",
              "    </tr>\n",
              "    <tr>\n",
              "      <th>123</th>\n",
              "      <td>4</td>\n",
              "      <td>3</td>\n",
              "      <td>5</td>\n",
              "      <td>0</td>\n",
              "      <td>1</td>\n",
              "      <td>209</td>\n",
              "      <td>123.690172</td>\n",
              "      <td>17003.0</td>\n",
              "      <td>737.0</td>\n",
              "      <td>1.0</td>\n",
              "      <td>81.354067</td>\n",
              "      <td>146.029377</td>\n",
              "      <td>19143</td>\n",
              "      <td>591</td>\n",
              "      <td>1</td>\n",
              "      <td>91.593301</td>\n",
              "    </tr>\n",
              "    <tr>\n",
              "      <th>124</th>\n",
              "      <td>5</td>\n",
              "      <td>4</td>\n",
              "      <td>5</td>\n",
              "      <td>1</td>\n",
              "      <td>0</td>\n",
              "      <td>197</td>\n",
              "      <td>113.779478</td>\n",
              "      <td>14312.0</td>\n",
              "      <td>773.0</td>\n",
              "      <td>1.0</td>\n",
              "      <td>72.649746</td>\n",
              "      <td>106.954801</td>\n",
              "      <td>14158</td>\n",
              "      <td>579</td>\n",
              "      <td>1</td>\n",
              "      <td>71.868020</td>\n",
              "    </tr>\n",
              "    <tr>\n",
              "      <th>125</th>\n",
              "      <td>6</td>\n",
              "      <td>5</td>\n",
              "      <td>5</td>\n",
              "      <td>1</td>\n",
              "      <td>0</td>\n",
              "      <td>250</td>\n",
              "      <td>61.396156</td>\n",
              "      <td>11124.0</td>\n",
              "      <td>535.0</td>\n",
              "      <td>1.0</td>\n",
              "      <td>44.496000</td>\n",
              "      <td>128.055442</td>\n",
              "      <td>23977</td>\n",
              "      <td>581</td>\n",
              "      <td>1</td>\n",
              "      <td>95.908000</td>\n",
              "    </tr>\n",
              "    <tr>\n",
              "      <th>126</th>\n",
              "      <td>0</td>\n",
              "      <td>6</td>\n",
              "      <td>5</td>\n",
              "      <td>0</td>\n",
              "      <td>1</td>\n",
              "      <td>150</td>\n",
              "      <td>74.528934</td>\n",
              "      <td>7467.0</td>\n",
              "      <td>606.0</td>\n",
              "      <td>1.0</td>\n",
              "      <td>49.780000</td>\n",
              "      <td>126.002224</td>\n",
              "      <td>12765</td>\n",
              "      <td>588</td>\n",
              "      <td>1</td>\n",
              "      <td>85.100000</td>\n",
              "    </tr>\n",
              "    <tr>\n",
              "      <th>...</th>\n",
              "      <td>...</td>\n",
              "      <td>...</td>\n",
              "      <td>...</td>\n",
              "      <td>...</td>\n",
              "      <td>...</td>\n",
              "      <td>...</td>\n",
              "      <td>...</td>\n",
              "      <td>...</td>\n",
              "      <td>...</td>\n",
              "      <td>...</td>\n",
              "      <td>...</td>\n",
              "      <td>...</td>\n",
              "      <td>...</td>\n",
              "      <td>...</td>\n",
              "      <td>...</td>\n",
              "      <td>...</td>\n",
              "    </tr>\n",
              "    <tr>\n",
              "      <th>222</th>\n",
              "      <td>5</td>\n",
              "      <td>10</td>\n",
              "      <td>8</td>\n",
              "      <td>1</td>\n",
              "      <td>0</td>\n",
              "      <td>192</td>\n",
              "      <td>124.997762</td>\n",
              "      <td>11443.0</td>\n",
              "      <td>877.0</td>\n",
              "      <td>1.0</td>\n",
              "      <td>59.598958</td>\n",
              "      <td>105.332314</td>\n",
              "      <td>11685</td>\n",
              "      <td>596</td>\n",
              "      <td>1</td>\n",
              "      <td>60.859375</td>\n",
              "    </tr>\n",
              "    <tr>\n",
              "      <th>223</th>\n",
              "      <td>6</td>\n",
              "      <td>11</td>\n",
              "      <td>8</td>\n",
              "      <td>1</td>\n",
              "      <td>0</td>\n",
              "      <td>206</td>\n",
              "      <td>113.205059</td>\n",
              "      <td>16482.0</td>\n",
              "      <td>800.0</td>\n",
              "      <td>1.0</td>\n",
              "      <td>80.009709</td>\n",
              "      <td>120.137025</td>\n",
              "      <td>16041</td>\n",
              "      <td>601</td>\n",
              "      <td>1</td>\n",
              "      <td>77.868932</td>\n",
              "    </tr>\n",
              "    <tr>\n",
              "      <th>224</th>\n",
              "      <td>0</td>\n",
              "      <td>12</td>\n",
              "      <td>8</td>\n",
              "      <td>0</td>\n",
              "      <td>1</td>\n",
              "      <td>176</td>\n",
              "      <td>164.215724</td>\n",
              "      <td>15952.0</td>\n",
              "      <td>940.0</td>\n",
              "      <td>1.0</td>\n",
              "      <td>90.636364</td>\n",
              "      <td>152.295304</td>\n",
              "      <td>17566</td>\n",
              "      <td>594</td>\n",
              "      <td>1</td>\n",
              "      <td>99.806818</td>\n",
              "    </tr>\n",
              "    <tr>\n",
              "      <th>225</th>\n",
              "      <td>1</td>\n",
              "      <td>13</td>\n",
              "      <td>8</td>\n",
              "      <td>0</td>\n",
              "      <td>1</td>\n",
              "      <td>177</td>\n",
              "      <td>120.282056</td>\n",
              "      <td>11695.0</td>\n",
              "      <td>814.0</td>\n",
              "      <td>1.0</td>\n",
              "      <td>66.073446</td>\n",
              "      <td>129.464477</td>\n",
              "      <td>14002</td>\n",
              "      <td>584</td>\n",
              "      <td>1</td>\n",
              "      <td>79.107345</td>\n",
              "    </tr>\n",
              "    <tr>\n",
              "      <th>226</th>\n",
              "      <td>2</td>\n",
              "      <td>14</td>\n",
              "      <td>8</td>\n",
              "      <td>0</td>\n",
              "      <td>1</td>\n",
              "      <td>106</td>\n",
              "      <td>141.966039</td>\n",
              "      <td>10380.0</td>\n",
              "      <td>710.0</td>\n",
              "      <td>1.0</td>\n",
              "      <td>97.924528</td>\n",
              "      <td>167.777161</td>\n",
              "      <td>11271</td>\n",
              "      <td>601</td>\n",
              "      <td>1</td>\n",
              "      <td>106.330189</td>\n",
              "    </tr>\n",
              "  </tbody>\n",
              "</table>\n",
              "<p>104 rows × 16 columns</p>\n",
              "</div>"
            ],
            "text/plain": [
              "           dow  Day  Month  ...  Length_max  Length_min  Length_mean\n",
              "Dayofyear                   ...                                     \n",
              "122          3    2      5  ...         593           1    94.901408\n",
              "123          4    3      5  ...         591           1    91.593301\n",
              "124          5    4      5  ...         579           1    71.868020\n",
              "125          6    5      5  ...         581           1    95.908000\n",
              "126          0    6      5  ...         588           1    85.100000\n",
              "...        ...  ...    ...  ...         ...         ...          ...\n",
              "222          5   10      8  ...         596           1    60.859375\n",
              "223          6   11      8  ...         601           1    77.868932\n",
              "224          0   12      8  ...         594           1    99.806818\n",
              "225          1   13      8  ...         584           1    79.107345\n",
              "226          2   14      8  ...         601           1   106.330189\n",
              "\n",
              "[104 rows x 16 columns]"
            ]
          },
          "metadata": {
            "tags": []
          },
          "execution_count": 18
        }
      ]
    },
    {
      "cell_type": "markdown",
      "metadata": {
        "id": "HUw3EqLN_zAS",
        "colab_type": "text"
      },
      "source": [
        "##Нарисуем датасет"
      ]
    },
    {
      "cell_type": "code",
      "metadata": {
        "id": "rKrxn16L_2s_",
        "colab_type": "code",
        "outputId": "99b2b1d7-0be3-4dc9-da71-58c63587c88b",
        "colab": {
          "base_uri": "https://localhost:8080/",
          "height": 933
        }
      },
      "source": [
        "fig, ax = plt.subplots(figsize=(15,15))\n",
        "df_train.hist(ax=ax);"
      ],
      "execution_count": 19,
      "outputs": [
        {
          "output_type": "stream",
          "text": [
            "/usr/local/lib/python3.6/dist-packages/ipykernel_launcher.py:2: UserWarning: To output multiple subplots, the figure containing the passed axes is being cleared\n",
            "  \n"
          ],
          "name": "stderr"
        },
        {
          "output_type": "display_data",
          "data": {
            "image/png": "[encoded data removed]",
            "text/plain": [
              "<Figure size 1080x1080 with 16 Axes>"
            ]
          },
          "metadata": {
            "tags": []
          }
        }
      ]
    },
    {
      "cell_type": "code",
      "metadata": {
        "id": "bq27xxF8XA5n",
        "colab_type": "code",
        "outputId": "2415f314-e63b-483f-86d5-147efb6c3fbb",
        "colab": {
          "base_uri": "https://localhost:8080/",
          "height": 317
        }
      },
      "source": [
        "df_train.describe()"
      ],
      "execution_count": 20,
      "outputs": [
        {
          "output_type": "execute_result",
          "data": {
            "text/html": [
              "<div>\n",
              "<style scoped>\n",
              "    .dataframe tbody tr th:only-of-type {\n",
              "        vertical-align: middle;\n",
              "    }\n",
              "\n",
              "    .dataframe tbody tr th {\n",
              "        vertical-align: top;\n",
              "    }\n",
              "\n",
              "    .dataframe thead th {\n",
              "        text-align: right;\n",
              "    }\n",
              "</style>\n",
              "<table border=\"1\" class=\"dataframe\">\n",
              "  <thead>\n",
              "    <tr style=\"text-align: right;\">\n",
              "      <th></th>\n",
              "      <th>dow</th>\n",
              "      <th>Day</th>\n",
              "      <th>Month</th>\n",
              "      <th>isWeekend</th>\n",
              "      <th>isWeekday</th>\n",
              "      <th>count</th>\n",
              "      <th>Value_std</th>\n",
              "      <th>Value_sum</th>\n",
              "      <th>Value_max</th>\n",
              "      <th>Value_min</th>\n",
              "      <th>Value_mean</th>\n",
              "      <th>Length_std</th>\n",
              "      <th>Length_sum</th>\n",
              "      <th>Length_max</th>\n",
              "      <th>Length_min</th>\n",
              "      <th>Length_mean</th>\n",
              "    </tr>\n",
              "  </thead>\n",
              "  <tbody>\n",
              "    <tr>\n",
              "      <th>count</th>\n",
              "      <td>104.000000</td>\n",
              "      <td>104.000000</td>\n",
              "      <td>104.000000</td>\n",
              "      <td>104.000000</td>\n",
              "      <td>104.000000</td>\n",
              "      <td>104.000000</td>\n",
              "      <td>104.000000</td>\n",
              "      <td>104.000000</td>\n",
              "      <td>104.000000</td>\n",
              "      <td>104.0</td>\n",
              "      <td>104.000000</td>\n",
              "      <td>104.000000</td>\n",
              "      <td>104.000000</td>\n",
              "      <td>104.000000</td>\n",
              "      <td>104.000000</td>\n",
              "      <td>104.000000</td>\n",
              "    </tr>\n",
              "    <tr>\n",
              "      <th>mean</th>\n",
              "      <td>3.019231</td>\n",
              "      <td>14.740385</td>\n",
              "      <td>6.288462</td>\n",
              "      <td>0.288462</td>\n",
              "      <td>0.711538</td>\n",
              "      <td>381.451923</td>\n",
              "      <td>93.380465</td>\n",
              "      <td>15233.673077</td>\n",
              "      <td>817.701923</td>\n",
              "      <td>1.0</td>\n",
              "      <td>52.167424</td>\n",
              "      <td>122.944877</td>\n",
              "      <td>20641.048077</td>\n",
              "      <td>730.759615</td>\n",
              "      <td>1.009615</td>\n",
              "      <td>71.493623</td>\n",
              "    </tr>\n",
              "    <tr>\n",
              "      <th>std</th>\n",
              "      <td>2.009592</td>\n",
              "      <td>8.768872</td>\n",
              "      <td>1.020880</td>\n",
              "      <td>0.455241</td>\n",
              "      <td>0.455241</td>\n",
              "      <td>313.969415</td>\n",
              "      <td>123.568995</td>\n",
              "      <td>6683.113774</td>\n",
              "      <td>1266.139158</td>\n",
              "      <td>0.0</td>\n",
              "      <td>28.574643</td>\n",
              "      <td>168.458071</td>\n",
              "      <td>8921.618628</td>\n",
              "      <td>1520.170842</td>\n",
              "      <td>0.098058</td>\n",
              "      <td>38.174065</td>\n",
              "    </tr>\n",
              "    <tr>\n",
              "      <th>min</th>\n",
              "      <td>0.000000</td>\n",
              "      <td>1.000000</td>\n",
              "      <td>5.000000</td>\n",
              "      <td>0.000000</td>\n",
              "      <td>0.000000</td>\n",
              "      <td>106.000000</td>\n",
              "      <td>28.084046</td>\n",
              "      <td>5776.000000</td>\n",
              "      <td>350.000000</td>\n",
              "      <td>1.0</td>\n",
              "      <td>8.754902</td>\n",
              "      <td>37.546403</td>\n",
              "      <td>7967.000000</td>\n",
              "      <td>501.000000</td>\n",
              "      <td>1.000000</td>\n",
              "      <td>7.481618</td>\n",
              "    </tr>\n",
              "    <tr>\n",
              "      <th>25%</th>\n",
              "      <td>1.000000</td>\n",
              "      <td>7.000000</td>\n",
              "      <td>5.000000</td>\n",
              "      <td>0.000000</td>\n",
              "      <td>0.000000</td>\n",
              "      <td>212.000000</td>\n",
              "      <td>61.135783</td>\n",
              "      <td>11692.750000</td>\n",
              "      <td>577.000000</td>\n",
              "      <td>1.0</td>\n",
              "      <td>43.781045</td>\n",
              "      <td>96.332835</td>\n",
              "      <td>15701.000000</td>\n",
              "      <td>578.250000</td>\n",
              "      <td>1.000000</td>\n",
              "      <td>62.055185</td>\n",
              "    </tr>\n",
              "    <tr>\n",
              "      <th>50%</th>\n",
              "      <td>3.000000</td>\n",
              "      <td>14.000000</td>\n",
              "      <td>6.000000</td>\n",
              "      <td>0.000000</td>\n",
              "      <td>1.000000</td>\n",
              "      <td>274.000000</td>\n",
              "      <td>79.301271</td>\n",
              "      <td>14508.500000</td>\n",
              "      <td>695.000000</td>\n",
              "      <td>1.0</td>\n",
              "      <td>50.488521</td>\n",
              "      <td>111.322282</td>\n",
              "      <td>20019.000000</td>\n",
              "      <td>588.500000</td>\n",
              "      <td>1.000000</td>\n",
              "      <td>73.981782</td>\n",
              "    </tr>\n",
              "    <tr>\n",
              "      <th>75%</th>\n",
              "      <td>5.000000</td>\n",
              "      <td>22.000000</td>\n",
              "      <td>7.000000</td>\n",
              "      <td>1.000000</td>\n",
              "      <td>1.000000</td>\n",
              "      <td>372.750000</td>\n",
              "      <td>96.565577</td>\n",
              "      <td>17138.000000</td>\n",
              "      <td>817.250000</td>\n",
              "      <td>1.0</td>\n",
              "      <td>60.763287</td>\n",
              "      <td>118.951951</td>\n",
              "      <td>24375.750000</td>\n",
              "      <td>596.000000</td>\n",
              "      <td>1.000000</td>\n",
              "      <td>81.921768</td>\n",
              "    </tr>\n",
              "    <tr>\n",
              "      <th>max</th>\n",
              "      <td>6.000000</td>\n",
              "      <td>31.000000</td>\n",
              "      <td>8.000000</td>\n",
              "      <td>1.000000</td>\n",
              "      <td>1.000000</td>\n",
              "      <td>1632.000000</td>\n",
              "      <td>1309.889497</td>\n",
              "      <td>66761.000000</td>\n",
              "      <td>13508.000000</td>\n",
              "      <td>1.0</td>\n",
              "      <td>275.871901</td>\n",
              "      <td>1805.284280</td>\n",
              "      <td>90494.000000</td>\n",
              "      <td>16083.000000</td>\n",
              "      <td>2.000000</td>\n",
              "      <td>373.942149</td>\n",
              "    </tr>\n",
              "  </tbody>\n",
              "</table>\n",
              "</div>"
            ],
            "text/plain": [
              "              dow         Day  ...  Length_min  Length_mean\n",
              "count  104.000000  104.000000  ...  104.000000   104.000000\n",
              "mean     3.019231   14.740385  ...    1.009615    71.493623\n",
              "std      2.009592    8.768872  ...    0.098058    38.174065\n",
              "min      0.000000    1.000000  ...    1.000000     7.481618\n",
              "25%      1.000000    7.000000  ...    1.000000    62.055185\n",
              "50%      3.000000   14.000000  ...    1.000000    73.981782\n",
              "75%      5.000000   22.000000  ...    1.000000    81.921768\n",
              "max      6.000000   31.000000  ...    2.000000   373.942149\n",
              "\n",
              "[8 rows x 16 columns]"
            ]
          },
          "metadata": {
            "tags": []
          },
          "execution_count": 20
        }
      ]
    },
    {
      "cell_type": "code",
      "metadata": {
        "id": "9RSpO-4_Xq-F",
        "colab_type": "code",
        "outputId": "1916ba8b-0ad1-4854-be2b-34d41f5f400d",
        "colab": {
          "base_uri": "https://localhost:8080/",
          "height": 333
        }
      },
      "source": [
        "import seaborn as sns; sns.set()\n",
        "ax = sns.heatmap(df_train.corr())"
      ],
      "execution_count": 21,
      "outputs": [
        {
          "output_type": "display_data",
          "data": {
            "image/png": "[encoded data removed]",
            "text/plain": [
              "<Figure size 432x288 with 2 Axes>"
            ]
          },
          "metadata": {
            "tags": []
          }
        }
      ]
    },
    {
      "cell_type": "markdown",
      "metadata": {
        "id": "-T72YqwNX2G4",
        "colab_type": "text"
      },
      "source": [
        "##*'Value_min'*, очевидно, нужно исключить"
      ]
    },
    {
      "cell_type": "code",
      "metadata": {
        "id": "S_4PtSKEX7hW",
        "colab_type": "code",
        "colab": {}
      },
      "source": [
        "df_train.drop(['Value_min'], axis=1, inplace=True)"
      ],
      "execution_count": 0,
      "outputs": []
    },
    {
      "cell_type": "markdown",
      "metadata": {
        "id": "n50qg0SrC87X",
        "colab_type": "text"
      },
      "source": [
        "##Так как у нас нет таргетов, будем использовать методы unsupervsed learning. Начнем с K-means. Задача сводится к задаче кластеризации. Попробуем минимальное кол-во кластеров - 3 (норма+ненорма+неизвестно)"
      ]
    },
    {
      "cell_type": "code",
      "metadata": {
        "id": "cZCju-z9_39P",
        "colab_type": "code",
        "outputId": "a87112ed-49c2-4676-c46d-42894f28cc5f",
        "colab": {
          "base_uri": "https://localhost:8080/",
          "height": 282
        }
      },
      "source": [
        "kmeans = KMeans(n_clusters=3, random_state=RS, n_jobs=n_jobs).fit(df_train)\n",
        "pred = pd.DataFrame(kmeans.predict(df_train), index=df_train.index, columns=['pred'])\n",
        "pred['pred'].value_counts(normalize=True).plot.bar()"
      ],
      "execution_count": 23,
      "outputs": [
        {
          "output_type": "execute_result",
          "data": {
            "text/plain": [
              "<matplotlib.axes._subplots.AxesSubplot at 0x7f98d28d82b0>"
            ]
          },
          "metadata": {
            "tags": []
          },
          "execution_count": 23
        },
        {
          "output_type": "display_data",
          "data": {
            "image/png": "[encoded data removed]",
            "text/plain": [
              "<Figure size 432x288 with 1 Axes>"
            ]
          },
          "metadata": {
            "tags": []
          }
        }
      ]
    },
    {
      "cell_type": "markdown",
      "metadata": {
        "id": "B2bH36h9dZOx",
        "colab_type": "text"
      },
      "source": [
        "##Данные хорошо разделяются на 2 кластера, что не соответствует нормальности. Если взять нормальное распределение за \"нормальность\", то \"нормальных\" значений должно быть ~68%"
      ]
    },
    {
      "cell_type": "markdown",
      "metadata": {
        "id": "dmBrXB1ikt_L",
        "colab_type": "text"
      },
      "source": [
        "##Попробуем 4 кластера"
      ]
    },
    {
      "cell_type": "code",
      "metadata": {
        "id": "QyxDENyskkC1",
        "colab_type": "code",
        "outputId": "0ad3d8a4-2c9c-4b46-df1a-8637fad12f72",
        "colab": {
          "base_uri": "https://localhost:8080/",
          "height": 284
        }
      },
      "source": [
        "kmeans = KMeans(n_clusters=4, random_state=RS, n_jobs=n_jobs).fit(df_train)\n",
        "pred = pd.DataFrame(kmeans.predict(df_train), index=df_train.index, columns=['pred'])\n",
        "pred['pred'].value_counts(normalize=True).plot.bar()"
      ],
      "execution_count": 24,
      "outputs": [
        {
          "output_type": "execute_result",
          "data": {
            "text/plain": [
              "<matplotlib.axes._subplots.AxesSubplot at 0x7f98d2846c50>"
            ]
          },
          "metadata": {
            "tags": []
          },
          "execution_count": 24
        },
        {
          "output_type": "display_data",
          "data": {
            "image/png": "[encoded data removed]",
            "text/plain": [
              "<Figure size 432x288 with 1 Axes>"
            ]
          },
          "metadata": {
            "tags": []
          }
        }
      ]
    },
    {
      "cell_type": "markdown",
      "metadata": {
        "id": "8myLx85QmauO",
        "colab_type": "text"
      },
      "source": [
        "##Четыре кластера так же не похожи на нормальное распределение, поэтому отвергнем эту гипотезу"
      ]
    },
    {
      "cell_type": "markdown",
      "metadata": {
        "id": "4RZ1IwBkmiR5",
        "colab_type": "text"
      },
      "source": [
        "##5?"
      ]
    },
    {
      "cell_type": "code",
      "metadata": {
        "id": "l_yucDUsmkIb",
        "colab_type": "code",
        "outputId": "c9714f5f-f1d0-42f6-fa10-510f82adb1b6",
        "colab": {
          "base_uri": "https://localhost:8080/",
          "height": 282
        }
      },
      "source": [
        "kmeans = KMeans(n_clusters=5, random_state=RS, n_jobs=n_jobs).fit(df_train)\n",
        "pred = pd.DataFrame(kmeans.predict(df_train), index=df_train.index, columns=['pred'])\n",
        "pred['pred'].value_counts(normalize=True).plot.bar()"
      ],
      "execution_count": 25,
      "outputs": [
        {
          "output_type": "execute_result",
          "data": {
            "text/plain": [
              "<matplotlib.axes._subplots.AxesSubplot at 0x7f98d2829278>"
            ]
          },
          "metadata": {
            "tags": []
          },
          "execution_count": 25
        },
        {
          "output_type": "display_data",
          "data": {
            "image/png": "[encoded data removed]",
            "text/plain": [
              "<Figure size 432x288 with 1 Axes>"
            ]
          },
          "metadata": {
            "tags": []
          }
        }
      ]
    },
    {
      "cell_type": "markdown",
      "metadata": {
        "id": "SbKjZt8vm_qp",
        "colab_type": "text"
      },
      "source": [
        "##Данное распределение похоже на нормальное, если сделать предположение,что кластеры 0 и 4 - норма, 1 и 2 ненорма, 3 - неизвестно"
      ]
    },
    {
      "cell_type": "code",
      "metadata": {
        "id": "RTbvtaJZM2l7",
        "colab_type": "code",
        "outputId": "945dc6a4-076e-4fe4-a7ea-d8884997a236",
        "colab": {
          "base_uri": "https://localhost:8080/",
          "height": 285
        }
      },
      "source": [
        "from sklearn.manifold import TSNE\n",
        "\n",
        "tsne = TSNE(random_state=RS)\n",
        "tsne_rep = tsne.fit_transform(df_train)\n",
        "\n",
        "plt.scatter(tsne_rep[:,0], tsne_rep[:,1], c=pred['pred'].map({0:'orange', 4:'orange', 3:'gray', 2:'blue', 1:'blue'}), alpha=.5)"
      ],
      "execution_count": 30,
      "outputs": [
        {
          "output_type": "execute_result",
          "data": {
            "text/plain": [
              "<matplotlib.collections.PathCollection at 0x7f98d1eabef0>"
            ]
          },
          "metadata": {
            "tags": []
          },
          "execution_count": 30
        },
        {
          "output_type": "display_data",
          "data": {
            "image/png": "[encoded data removed]",
            "text/plain": [
              "<Figure size 432x288 with 1 Axes>"
            ]
          },
          "metadata": {
            "tags": []
          }
        }
      ]
    },
    {
      "cell_type": "markdown",
      "metadata": {
        "id": "onje38VwiBqA",
        "colab_type": "text"
      },
      "source": [
        "##Теперь соберем весь этот виздом в функцию"
      ]
    },
    {
      "cell_type": "code",
      "metadata": {
        "id": "_AG9Ka-JQzmx",
        "colab_type": "code",
        "colab": {}
      },
      "source": [
        "def wisdom(df_data):\n",
        "\n",
        "  data = df_data.copy()\n",
        "  data.drop(['User ID','Time Offset', 'Time End', 'Time Start'], axis=1, inplace=True)\n",
        "  data['Length'] = (data['Time End Local Tz'] - data['Time Start Local Tz']).map(lambda x: int(x.total_seconds()))\n",
        "  data.drop(['Time End Local Tz'], axis=1, inplace=True)\n",
        "  data['Dayofyear'] = data['Time Start Local Tz'].dt.dayofyear\n",
        "  data['dow'] = data['Time Start Local Tz'].dt.dayofweek\n",
        "  data['Day'] = data['Time Start Local Tz'].dt.day\n",
        "  data['Month'] = data['Time Start Local Tz'].dt.month\n",
        "  data['isWeekend'] = (data['dow'] > 4).map(int)\n",
        "  data['isWeekday'] = (data['dow'] < 5).map(int)\n",
        "  data = add_aggregates(data, cols=['Value',\t'Length'])\n",
        "  data.drop(['Time Start Local Tz','Value', 'Length', 'Value_min'], axis=1, inplace=True)\n",
        "\n",
        "  data = data.set_index('Dayofyear')\n",
        "  data = data.groupby(data.index).first()\n",
        "\n",
        "  kmeans = KMeans(n_clusters=5, random_state=RS, n_jobs=n_jobs).fit(data)\n",
        "  pred = pd.DataFrame(kmeans.predict(data), index=data.index, columns=['pred'])\n",
        "\n",
        "  pred['pred'] = pred['pred'].map({0:'regular', 4:'regular', 3:'unclear', 2:'irregular', 1:'irregular'})\n",
        "\n",
        "  return pred"
      ],
      "execution_count": 0,
      "outputs": []
    },
    {
      "cell_type": "markdown",
      "metadata": {
        "id": "KMoPOgKIiKjk",
        "colab_type": "text"
      },
      "source": [
        "##И, наконец, используем нашу волшебную функцию"
      ]
    },
    {
      "cell_type": "code",
      "metadata": {
        "id": "KxEamF1MgIxs",
        "colab_type": "code",
        "outputId": "6ca79c2a-1dc8-44a3-a4e1-f51a5a033afb",
        "colab": {
          "base_uri": "https://localhost:8080/",
          "height": 305
        }
      },
      "source": [
        "df = pd.read_csv('query_result_2019-12-24T07_29_06.659397Z.csv', parse_dates=['Time End','Time End Local Tz','Time Start', 'Time Start Local Tz'])\n",
        "res = wisdom(df)\n",
        "\n",
        "res['pred'].value_counts(normalize=True).plot.bar();\n"
      ],
      "execution_count": 32,
      "outputs": [
        {
          "output_type": "display_data",
          "data": {
            "image/png": "[encoded data removed]",
            "text/plain": [
              "<Figure size 432x288 with 1 Axes>"
            ]
          },
          "metadata": {
            "tags": []
          }
        }
      ]
    }
  ]
}